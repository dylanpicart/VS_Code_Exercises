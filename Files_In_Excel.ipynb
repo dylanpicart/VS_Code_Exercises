{
 "cells": [
  {
   "cell_type": "markdown",
   "metadata": {},
   "source": [
    "# Reading and Writing Excel Files in Python\n",
    "\n",
    "There are many different ways to read and write files in Python. In this discussion we will be using openpyxl in order to read and write Excel files in Python"
   ]
  },
  {
   "cell_type": "code",
   "execution_count": 45,
   "metadata": {},
   "outputs": [
    {
     "name": "stdout",
     "output_type": "stream",
     "text": [
      "<Worksheet \"Sheet1\">\n"
     ]
    }
   ],
   "source": [
    "# Let's say we want to read an excel file\n",
    "# First we need to download OpenPyXl with the command $ pip install openpyxl\n",
    "# Alternatively we could download and install xlrd (for older excel files - pip install xlrd)\n",
    "# Next we import the load workbook method\n",
    "\n",
    "from openpyxl import load_workbook\n",
    "\n",
    "# Next we'll want to pass into it the file you'd like to open\n",
    "# Since the excel file is in the same directory, I can call it by name and store in a variable\n",
    "# If in another directory, just copy and paste the path (use double slash \\\\)\n",
    "book = load_workbook('Itemex.xlsx')\n",
    "# To print out the type, simply print(type(book))\n",
    "\n",
    "# We need to access the sheet (print(book.sheetnames))\n",
    "# This should print a list of the sheets, and now we directly access the sheet with an index\n",
    "# (print(book['Sheet1'])) Or we can use the .active method to get the active sheet (book.active.title)\n",
    "print(book['Sheet1'])"
   ]
  },
  {
   "cell_type": "code",
   "execution_count": 46,
   "metadata": {},
   "outputs": [],
   "source": [
    "# Let's save our sheet to a variable\n",
    "\n",
    "st = book['Sheet1']\n",
    "\n",
    "# What if we want to rename our Worksheet?\n",
    "\n",
    "st.title = 'ListOfStuff'\n",
    "\n",
    "# Access the cell from the worksheet\n",
    "# st['A1']\n",
    "\n",
    "# To assign value to a cell - when you open up Excel after saving it should be in C1\n",
    "st['C1'] = 'Numbers'\n",
    "\n",
    "# To save the workbook\n",
    "book.save('Itemex.xlsx')"
   ]
  },
  {
   "cell_type": "code",
   "execution_count": 65,
   "metadata": {},
   "outputs": [
    {
     "data": {
      "text/plain": [
       "'Apples'"
      ]
     },
     "execution_count": 65,
     "metadata": {},
     "output_type": "execute_result"
    }
   ],
   "source": [
    "# To access the the value within the cell\n",
    "st['A3'].value\n",
    "# You can also access the value within the cell through row & column\n",
    "st.cell(3, 1).value\n",
    "# optional to call through key/value (st.cell(row=3, column=1).value)"
   ]
  },
  {
   "cell_type": "code",
   "execution_count": 66,
   "metadata": {},
   "outputs": [
    {
     "name": "stdout",
     "output_type": "stream",
     "text": [
      "6 3\n"
     ]
    }
   ],
   "source": [
    "# Now that we know how to access individual cells, let's access the entire sheet\n",
    "# We will need to establish a for loop to read all of the data\n",
    "# Establish the # of rows & columns\n",
    "\n",
    "row = st.max_row\n",
    "column = st.max_column\n",
    "\n",
    "print(row, column)\n"
   ]
  },
  {
   "cell_type": "code",
   "execution_count": 67,
   "metadata": {},
   "outputs": [
    {
     "name": "stdout",
     "output_type": "stream",
     "text": [
      "Item\tPrice\tNumbers\t\n",
      "Bananas\t0.69\t100\t\n",
      "Apples\t1.99\t200\t\n",
      "Milk\t4.99\t300\t\n",
      "Eggs\t2.99\t400\t\n",
      "Veggies\t10\t500\t\n"
     ]
    }
   ],
   "source": [
    "# We will need two for loops - one for rows, the other for columns \n",
    "\n",
    "# Recall that with the range we want the entire row & column, so we need to add + 1\n",
    "for i in range(1, row + 1):\n",
    "    for j in range(1, column + 1):\n",
    "        # use keyword end='' so Python does nothing after it prints a line instead of printing on the line below\n",
    "        print(st.cell(i, j).value, end='')\n",
    "        # '\\t' to insert a new tab between each data point\n",
    "        print('\\t', end='')\n",
    "    # after every column, we make a new line\n",
    "    print()\n",
    "\n",
    "    # in order to ensure that the 'None' value appears"
   ]
  },
  {
   "cell_type": "code",
   "execution_count": 68,
   "metadata": {},
   "outputs": [],
   "source": [
    "# Let's assign values to the third colums\n",
    "\n",
    "st['C2'].value = 100\n",
    "st['C3'].value = 200\n",
    "st['C4'].value = 300\n",
    "st['C5'].value = 400\n",
    "st['C6'].value = 500"
   ]
  },
  {
   "cell_type": "code",
   "execution_count": 69,
   "metadata": {},
   "outputs": [
    {
     "name": "stdout",
     "output_type": "stream",
     "text": [
      "Item \tPrice \tNumbers \t"
     ]
    }
   ],
   "source": [
    "#Let's print the title rows\n",
    "\n",
    "for cell in st['1']:\n",
    "    print(cell.value, '\\t', end='')"
   ]
  },
  {
   "cell_type": "code",
   "execution_count": 70,
   "metadata": {},
   "outputs": [
    {
     "name": "stdout",
     "output_type": "stream",
     "text": [
      "Numbers\n",
      "100\n",
      "200\n",
      "300\n",
      "400\n",
      "500\n"
     ]
    }
   ],
   "source": [
    "# Let's print one column\n",
    "\n",
    "for cell in st['C']:\n",
    "    print(cell.value)"
   ]
  },
  {
   "cell_type": "code",
   "execution_count": 74,
   "metadata": {},
   "outputs": [
    {
     "name": "stdout",
     "output_type": "stream",
     "text": [
      "Item\tPrice\t\n",
      "Bananas\t0.69\t\n",
      "Apples\t1.99\t\n",
      "Milk\t4.99\t\n",
      "Eggs\t2.99\t\n",
      "Veggies\t10\t\n"
     ]
    }
   ],
   "source": [
    "# Let's read two rows\n",
    "\n",
    "for i in range(1, row + 1):\n",
    "    for j in range(1, 3):\n",
    "        print(st.cell(i, j).value, end='')\n",
    "        print('\\t', end='')\n",
    "    print()"
   ]
  },
  {
   "cell_type": "code",
   "execution_count": 57,
   "metadata": {},
   "outputs": [
    {
     "name": "stdout",
     "output_type": "stream",
     "text": [
      "Price\n",
      "0.69\n",
      "1.99\n",
      "4.99\n",
      "2.99\n",
      "10\n"
     ]
    }
   ],
   "source": [
    "# You can also specify a range to iterate over using st.iter_rows / st.iter_cols\n",
    "\n",
    "# This iterates over the rows, which ironically produces a column\n",
    "for row in st.iter_rows():\n",
    "   # Here we use the proper indexing (start at 0)\n",
    "   print(row[1].value) "
   ]
  },
  {
   "cell_type": "code",
   "execution_count": 62,
   "metadata": {},
   "outputs": [
    {
     "name": "stdout",
     "output_type": "stream",
     "text": [
      "Apples \t1.99 \t200 \t"
     ]
    }
   ],
   "source": [
    "# What about columns?\n",
    "\n",
    "for column in st.iter_cols():\n",
    "    print(column[2].value, '\\t', end='')"
   ]
  },
  {
   "cell_type": "code",
   "execution_count": null,
   "metadata": {},
   "outputs": [],
   "source": [
    "# How about creating a dictionary out of Item and Price?\n",
    "# We will use the zip() function, which pairs together our lists' corresponding items in our dictionary\n",
    "# https://www.youtube.com/watch?v=YaplXSRJoEs\n",
    "\n",
    "'''for row in rows:\n",
    "    item_price = {}\n",
    "    for item in zip():'''"
   ]
  }
 ],
 "metadata": {
  "interpreter": {
   "hash": "8c531bcfcb6e408b14c9f8aff8cb518f6c2c6cfbb6bbec98d36263e6de29481f"
  },
  "kernelspec": {
   "display_name": "Python 3.10.0 64-bit",
   "name": "python3"
  },
  "language_info": {
   "codemirror_mode": {
    "name": "ipython",
    "version": 3
   },
   "file_extension": ".py",
   "mimetype": "text/x-python",
   "name": "python",
   "nbconvert_exporter": "python",
   "pygments_lexer": "ipython3",
   "version": "3.10.0"
  },
  "orig_nbformat": 4
 },
 "nbformat": 4,
 "nbformat_minor": 2
}

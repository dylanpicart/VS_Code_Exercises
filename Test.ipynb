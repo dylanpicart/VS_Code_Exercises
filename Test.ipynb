{
 "cells": [
  {
   "cell_type": "code",
   "execution_count": 2,
   "metadata": {},
   "outputs": [
    {
     "name": "stdout",
     "output_type": "stream",
     "text": [
      "Your total budget is: $1000.0.\n"
     ]
    },
    {
     "data": {
      "text/plain": [
       "<__main__.Budget at 0x25d2a0b3730>"
      ]
     },
     "execution_count": 2,
     "metadata": {},
     "output_type": "execute_result"
    }
   ],
   "source": [
    "# Budget\n",
    "\n",
    "class Budget(object):\n",
    "    def __init__(self):\n",
    "        self.budget = float(input('How much is your budget?'))\n",
    "        print(f'Your total budget is: ${self.budget}.')\n",
    "\n",
    "Budget()\n"
   ]
  },
  {
   "cell_type": "code",
   "execution_count": null,
   "metadata": {},
   "outputs": [],
   "source": []
  }
 ],
 "metadata": {
  "interpreter": {
   "hash": "8c531bcfcb6e408b14c9f8aff8cb518f6c2c6cfbb6bbec98d36263e6de29481f"
  },
  "kernelspec": {
   "display_name": "Python 3.10.0 64-bit",
   "name": "python3"
  },
  "language_info": {
   "codemirror_mode": {
    "name": "ipython",
    "version": 3
   },
   "file_extension": ".py",
   "mimetype": "text/x-python",
   "name": "python",
   "nbconvert_exporter": "python",
   "pygments_lexer": "ipython3",
   "version": "3.10.0"
  },
  "orig_nbformat": 4
 },
 "nbformat": 4,
 "nbformat_minor": 2
}
